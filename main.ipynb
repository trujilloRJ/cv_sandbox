{
 "cells": [
  {
   "cell_type": "code",
   "execution_count": 20,
   "metadata": {},
   "outputs": [],
   "source": [
    "import pandas as pd\n",
    "import numpy as np\n",
    "from os import listdir\n",
    "from configuration import get_config\n",
    "from association import compute_iou\n",
    "\n",
    "IMG_PATH = r\"C:/javier/personal_projects/computer_vision/data/KITTI_object_tracking/images/training/image_02/0000/\"\n",
    "DET_FILE = r\"C:/javier/personal_projects/computer_vision/data/KITTI_object_tracking/detections_regionlet/training/det_02/0000.txt\"\n",
    "DATASET = 'KITTI'"
   ]
  },
  {
   "cell_type": "code",
   "execution_count": 33,
   "metadata": {},
   "outputs": [],
   "source": [
    "# load dets\n",
    "config = get_config(DATASET)\n",
    "dets = pd.read_csv(DET_FILE, header=None, sep=\" \")\n",
    "dets.columns = config['det_cols']\n",
    "\n",
    "# filter dets with low score\n",
    "min_score = -1.0\n",
    "dets = dets[dets['score'] > min_score]"
   ]
  },
  {
   "cell_type": "code",
   "execution_count": null,
   "metadata": {},
   "outputs": [],
   "source": [
    "# sort by score\n",
    "dets = dets.sort_values(by='score', ascending=False).reset_index(drop=True)\n",
    "\n",
    "iou_thr = 0.2\n",
    "picked_dets_indexes = []\n",
    "frames = dets['frame'].unique()\n",
    "for i, frame in enumerate(frames):\n",
    "    suppress_index = []\n",
    "    cur_dets = dets.loc[dets['frame'] == frame, :]\n",
    "    cur_indexes = list(cur_dets.index)\n",
    "    for j in cur_indexes:   # already sorted by score\n",
    "        if j in suppress_index:\n",
    "            continue\n",
    "        picked_dets_indexes.append(j)\n",
    "        box_ref = np.array([cur_dets.loc[j, 'top'], cur_dets.loc[j, 'left'], cur_dets.loc[j, 'bottom'], cur_dets.loc[j, 'right']])\n",
    "        for k in cur_indexes[j+1:]:\n",
    "            box_test = np.array([cur_dets.loc[k, 'top'], cur_dets.loc[k, 'left'], cur_dets.loc[k, 'bottom'], cur_dets.loc[k, 'right']])\n",
    "            iou = compute_iou(box_ref, box_test)\n",
    "            if iou > iou_thr:\n",
    "                suppress_index.append(k)\n",
    "\n",
    "nms_dets = dets.loc[picked_dets_indexes, :]\n",
    "\n",
    "nms_dets.to_csv('0000_nms_dets.csv', sep=\" \", index=False, header=False)"
   ]
  },
  {
   "cell_type": "code",
   "execution_count": 50,
   "metadata": {},
   "outputs": [
    {
     "data": {
      "image/png": "[encoded data removed]",
      "text/plain": [
       "<Figure size 640x480 with 1 Axes>"
      ]
     },
     "metadata": {},
     "output_type": "display_data"
    }
   ],
   "source": [
    "import numpy as np\n",
    "import matplotlib.pyplot as plt\n",
    "\n",
    "np.random.seed(0)\n",
    "# exploration track score\n",
    "z_dim = 2\n",
    "n = 30\n",
    "hit_vector = np.ones(n)\n",
    "x_real, y_real = 2.0, 3.0\n",
    "\n",
    "hit_vector[5:10] = 0\n",
    "\n",
    "x_noise = x_real + np.sqrt(1.2)*np.random.randn(n)\n",
    "y_noise = y_real + np.sqrt(0.9)*np.random.randn(n)\n",
    "\n",
    "S = np.array([[1.2, 0], [0, 0.9]])\n",
    "\n",
    "Pd = 0.9\n",
    "Bft = 0.1/100\n",
    "llr = np.zeros_like(x_noise) # l0 0.5 prob\n",
    "for i, hit in enumerate(hit_vector):\n",
    "    if i > 0:\n",
    "        if hit > 0:\n",
    "            y = np.array([x_noise[i] - x_real, y_noise[i] - y_real]).reshape(-1, 1)\n",
    "            dsq = y.T @ np.linalg.inv(S) @ y\n",
    "            llr[i] = llr[i-1] + np.log(Pd/((2*np.pi)**(z_dim) * Bft * np.sqrt(np.linalg.det(S)))) - dsq/2\n",
    "        else:\n",
    "            llr[i] = llr[i-1] + np.log(1-Pd)\n",
    "\n",
    "prob = np.exp(llr)/(1 + np.exp(llr))\n",
    "\n",
    "fig, ax = plt.subplots()\n",
    "ax.plot(prob, '-o')\n",
    "ax.plot(llr)\n",
    "ax.grid()\n"
   ]
  },
  {
   "cell_type": "code",
   "execution_count": 51,
   "metadata": {},
   "outputs": [
    {
     "data": {
      "text/plain": [
       "-2.302585092994046"
      ]
     },
     "execution_count": 51,
     "metadata": {},
     "output_type": "execute_result"
    }
   ],
   "source": [
    "np.log(1-Pd)"
   ]
  },
  {
   "cell_type": "code",
   "execution_count": 47,
   "metadata": {},
   "outputs": [
    {
     "data": {
      "text/plain": [
       "array([1., 1., 1., 1., 1., 1., 1., 1., 1., 1., 0., 0., 0., 0., 0., 1., 1.,\n",
       "       1., 1., 1., 1., 1., 1., 1., 1., 1., 1., 1., 1., 1.])"
      ]
     },
     "execution_count": 47,
     "metadata": {},
     "output_type": "execute_result"
    }
   ],
   "source": [
    "hit_vector"
   ]
  },
  {
   "cell_type": "code",
   "execution_count": 40,
   "metadata": {},
   "outputs": [
    {
     "data": {
      "text/plain": [
       "1.989547821269446"
      ]
     },
     "execution_count": 40,
     "metadata": {},
     "output_type": "execute_result"
    }
   ],
   "source": [
    "np.log(Pd/((2*np.pi)**(z_dim) * Bft * np.sqrt(np.linalg.det(S))))"
   ]
  }
 ],
 "metadata": {
  "kernelspec": {
   "display_name": "dl_basic",
   "language": "python",
   "name": "python3"
  },
  "language_info": {
   "codemirror_mode": {
    "name": "ipython",
    "version": 3
   },
   "file_extension": ".py",
   "mimetype": "text/x-python",
   "name": "python",
   "nbconvert_exporter": "python",
   "pygments_lexer": "ipython3",
   "version": "3.8.13"
  }
 },
 "nbformat": 4,
 "nbformat_minor": 2
}
