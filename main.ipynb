{
 "cells": [
  {
   "cell_type": "code",
   "execution_count": 4,
   "metadata": {},
   "outputs": [],
   "source": [
    "import pandas as pd\n",
    "\n",
    "IMG_PATH = r\"C:/javier/personal_projects/computer_vision/data/MOT16/train/MOT16-02/img1/\"\n",
    "DET_FILE = r\"C:/javier/personal_projects/computer_vision/data/MOT16/train/MOT16-02/det/det.txt\"\n",
    "COLS = ['frame', 'track', 'bbtl_y', 'bbtl_x', 'width', 'height', 'confidence', 'class', 'occlusion', 'dummy']"
   ]
  },
  {
   "cell_type": "code",
   "execution_count": 5,
   "metadata": {},
   "outputs": [
    {
     "name": "stdout",
     "output_type": "stream",
     "text": [
      "      frame  track   bbtl_y  bbtl_x    width   height  confidence  class  \\\n",
      "0         1     -1  1359.10  413.27  120.260  362.770    2.309200     -1   \n",
      "1         1     -1   571.03  402.13  104.560  315.680    1.502800     -1   \n",
      "2         1     -1   650.80  455.86   63.980  193.940    0.332760     -1   \n",
      "3         1     -1   721.23  446.86   41.871  127.610    0.274010     -1   \n",
      "4         1     -1   454.06  434.36   97.492  294.470    0.208180     -1   \n",
      "...     ...    ...      ...     ...      ...      ...         ...    ...   \n",
      "7262    600     -1  1005.60  375.27   97.492  294.470   -0.097509     -1   \n",
      "7263    600     -1   708.37  476.87   20.435   63.306   -0.148300     -1   \n",
      "7264    600     -1   421.14  446.86   41.871  127.610   -0.199710     -1   \n",
      "7265    600     -1   613.25  412.69   51.780  157.340   -0.386270     -1   \n",
      "7266    600     -1   375.27  454.06   48.246  146.740   -0.424440     -1   \n",
      "\n",
      "      occlusion  dummy  \n",
      "0            -1     -1  \n",
      "1            -1     -1  \n",
      "2            -1     -1  \n",
      "3            -1     -1  \n",
      "4            -1     -1  \n",
      "...         ...    ...  \n",
      "7262         -1     -1  \n",
      "7263         -1     -1  \n",
      "7264         -1     -1  \n",
      "7265         -1     -1  \n",
      "7266         -1     -1  \n",
      "\n",
      "[7267 rows x 10 columns]\n"
     ]
    }
   ],
   "source": [
    "det = pd.read_csv(DET_FILE, header=None)\n",
    "det.columns = COLS\n",
    "print(det)"
   ]
  },
  {
   "cell_type": "code",
   "execution_count": null,
   "metadata": {},
   "outputs": [
    {
     "data": {
      "text/plain": [
       "1"
      ]
     },
     "execution_count": 8,
     "metadata": {},
     "output_type": "execute_result"
    }
   ],
   "source": [
    "from os import listdir\n",
    "IMG_PATH = r\"C:/javier/personal_projects/computer_vision/data/MOT16/train/MOT16-02/img1/\""
   ]
  }
 ],
 "metadata": {
  "kernelspec": {
   "display_name": "dl_basic",
   "language": "python",
   "name": "python3"
  },
  "language_info": {
   "codemirror_mode": {
    "name": "ipython",
    "version": 3
   },
   "file_extension": ".py",
   "mimetype": "text/x-python",
   "name": "python",
   "nbconvert_exporter": "python",
   "pygments_lexer": "ipython3",
   "version": "3.8.13"
  }
 },
 "nbformat": 4,
 "nbformat_minor": 2
}
