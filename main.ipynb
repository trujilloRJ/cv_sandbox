{
 "cells": [
  {
   "cell_type": "code",
   "execution_count": null,
   "metadata": {},
   "outputs": [],
   "source": [
    "import pandas as pd\n",
    "import numpy as np\n",
    "from os import listdir\n",
    "from configuration import get_config\n",
    "\n",
    "IMG_PATH = r\"C:/javier/personal_projects/computer_vision/data/KITTI_object_tracking/images/training/image_02/0000/\"\n",
    "DET_FILE = r\"C:/javier/personal_projects/computer_vision/data/KITTI_object_tracking/detections_regionlet/training/det_02/0000.txt\"\n",
    "DATASET = 'KITTI'"
   ]
  },
  {
   "cell_type": "code",
   "execution_count": 30,
   "metadata": {},
   "outputs": [
    {
     "data": {
      "text/html": [
       "<div>\n",
       "<style scoped>\n",
       "    .dataframe tbody tr th:only-of-type {\n",
       "        vertical-align: middle;\n",
       "    }\n",
       "\n",
       "    .dataframe tbody tr th {\n",
       "        vertical-align: top;\n",
       "    }\n",
       "\n",
       "    .dataframe thead th {\n",
       "        text-align: right;\n",
       "    }\n",
       "</style>\n",
       "<table border=\"1\" class=\"dataframe\">\n",
       "  <thead>\n",
       "    <tr style=\"text-align: right;\">\n",
       "      <th></th>\n",
       "      <th>frame</th>\n",
       "      <th>track_id</th>\n",
       "      <th>type</th>\n",
       "      <th>truncated</th>\n",
       "      <th>occluded</th>\n",
       "      <th>alpha</th>\n",
       "      <th>left</th>\n",
       "      <th>top</th>\n",
       "      <th>right</th>\n",
       "      <th>bottom</th>\n",
       "      <th>height</th>\n",
       "      <th>width</th>\n",
       "      <th>length</th>\n",
       "      <th>x</th>\n",
       "      <th>y</th>\n",
       "      <th>z</th>\n",
       "      <th>rotation_y</th>\n",
       "      <th>score</th>\n",
       "    </tr>\n",
       "  </thead>\n",
       "  <tbody>\n",
       "    <tr>\n",
       "      <th>18</th>\n",
       "      <td>0</td>\n",
       "      <td>-1</td>\n",
       "      <td>Cyclist</td>\n",
       "      <td>-1</td>\n",
       "      <td>-1</td>\n",
       "      <td>-10</td>\n",
       "      <td>0.0</td>\n",
       "      <td>63.0</td>\n",
       "      <td>80.0</td>\n",
       "      <td>248.0</td>\n",
       "      <td>-1</td>\n",
       "      <td>-1</td>\n",
       "      <td>-1</td>\n",
       "      <td>-1000</td>\n",
       "      <td>-1000</td>\n",
       "      <td>-1000</td>\n",
       "      <td>-10</td>\n",
       "      <td>0.092357</td>\n",
       "    </tr>\n",
       "    <tr>\n",
       "      <th>45</th>\n",
       "      <td>0</td>\n",
       "      <td>-1</td>\n",
       "      <td>Car</td>\n",
       "      <td>-1</td>\n",
       "      <td>-1</td>\n",
       "      <td>-10</td>\n",
       "      <td>303.0</td>\n",
       "      <td>167.0</td>\n",
       "      <td>459.0</td>\n",
       "      <td>293.0</td>\n",
       "      <td>-1</td>\n",
       "      <td>-1</td>\n",
       "      <td>-1</td>\n",
       "      <td>-1000</td>\n",
       "      <td>-1000</td>\n",
       "      <td>-1000</td>\n",
       "      <td>-10</td>\n",
       "      <td>14.840359</td>\n",
       "    </tr>\n",
       "    <tr>\n",
       "      <th>147</th>\n",
       "      <td>0</td>\n",
       "      <td>-1</td>\n",
       "      <td>Pedestrian</td>\n",
       "      <td>-1</td>\n",
       "      <td>-1</td>\n",
       "      <td>-10</td>\n",
       "      <td>1098.0</td>\n",
       "      <td>156.0</td>\n",
       "      <td>1205.0</td>\n",
       "      <td>324.0</td>\n",
       "      <td>-1</td>\n",
       "      <td>-1</td>\n",
       "      <td>-1</td>\n",
       "      <td>-1000</td>\n",
       "      <td>-1000</td>\n",
       "      <td>-1000</td>\n",
       "      <td>-10</td>\n",
       "      <td>3.611409</td>\n",
       "    </tr>\n",
       "  </tbody>\n",
       "</table>\n",
       "</div>"
      ],
      "text/plain": [
       "     frame  track_id        type  truncated  occluded  alpha    left    top  \\\n",
       "18       0        -1     Cyclist         -1        -1    -10     0.0   63.0   \n",
       "45       0        -1         Car         -1        -1    -10   303.0  167.0   \n",
       "147      0        -1  Pedestrian         -1        -1    -10  1098.0  156.0   \n",
       "\n",
       "      right  bottom  height  width  length     x     y     z  rotation_y  \\\n",
       "18     80.0   248.0      -1     -1      -1 -1000 -1000 -1000         -10   \n",
       "45    459.0   293.0      -1     -1      -1 -1000 -1000 -1000         -10   \n",
       "147  1205.0   324.0      -1     -1      -1 -1000 -1000 -1000         -10   \n",
       "\n",
       "         score  \n",
       "18    0.092357  \n",
       "45   14.840359  \n",
       "147   3.611409  "
      ]
     },
     "execution_count": 30,
     "metadata": {},
     "output_type": "execute_result"
    }
   ],
   "source": [
    "config = get_config(DATASET)\n",
    "dets = pd.read_csv(DET_FILE, header=None, sep=\" \")\n",
    "dets.columns = config['det_cols']\n",
    "cur_dets = dets.loc[dets['frame'] == 0, :]\n",
    "cur_dets[cur_dets['score'] > 0]"
   ]
  },
  {
   "cell_type": "code",
   "execution_count": 23,
   "metadata": {},
   "outputs": [
    {
     "data": {
      "text/plain": [
       "(array([0, 1, 2], dtype=int64), array([2, 0, 1], dtype=int64))"
      ]
     },
     "execution_count": 23,
     "metadata": {},
     "output_type": "execute_result"
    }
   ],
   "source": [
    "import numpy as np\n",
    "from scipy.optimize import linear_sum_assignment\n",
    "\n",
    "cost_matrix = np.array([\n",
    "    [0, 2, 3],\n",
    "    [2, 1, 0],\n",
    "    [-100, -10, -20]\n",
    "])\n",
    "row_ind, col_ind = linear_sum_assignment(cost_matrix, maximize=True)\n",
    "row_ind, col_ind "
   ]
  }
 ],
 "metadata": {
  "kernelspec": {
   "display_name": "dl_basic",
   "language": "python",
   "name": "python3"
  },
  "language_info": {
   "codemirror_mode": {
    "name": "ipython",
    "version": 3
   },
   "file_extension": ".py",
   "mimetype": "text/x-python",
   "name": "python",
   "nbconvert_exporter": "python",
   "pygments_lexer": "ipython3",
   "version": "3.8.13"
  }
 },
 "nbformat": 4,
 "nbformat_minor": 2
}
