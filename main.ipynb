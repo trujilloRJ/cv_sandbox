{
 "cells": [
  {
   "cell_type": "code",
   "execution_count": 20,
   "metadata": {},
   "outputs": [],
   "source": [
    "import pandas as pd\n",
    "import numpy as np\n",
    "from os import listdir\n",
    "from configuration import get_config\n",
    "from association import compute_iou\n",
    "\n",
    "IMG_PATH = r\"C:/javier/personal_projects/computer_vision/data/KITTI_object_tracking/images/training/image_02/0000/\"\n",
    "DET_FILE = r\"C:/javier/personal_projects/computer_vision/data/KITTI_object_tracking/detections_regionlet/training/det_02/0000.txt\"\n",
    "DATASET = 'KITTI'"
   ]
  },
  {
   "cell_type": "code",
   "execution_count": 33,
   "metadata": {},
   "outputs": [],
   "source": [
    "# load dets\n",
    "config = get_config(DATASET)\n",
    "dets = pd.read_csv(DET_FILE, header=None, sep=\" \")\n",
    "dets.columns = config['det_cols']\n",
    "\n",
    "# filter dets with low score\n",
    "min_score = -1.0\n",
    "dets = dets[dets['score'] > min_score]"
   ]
  },
  {
   "cell_type": "code",
   "execution_count": null,
   "metadata": {},
   "outputs": [],
   "source": [
    "# sort by score\n",
    "dets = dets.sort_values(by='score', ascending=False).reset_index(drop=True)\n",
    "\n",
    "iou_thr = 0.2\n",
    "picked_dets_indexes = []\n",
    "frames = dets['frame'].unique()\n",
    "for i, frame in enumerate(frames):\n",
    "    suppress_index = []\n",
    "    cur_dets = dets.loc[dets['frame'] == frame, :]\n",
    "    cur_indexes = list(cur_dets.index)\n",
    "    for j in cur_indexes:   # already sorted by score\n",
    "        if j in suppress_index:\n",
    "            continue\n",
    "        picked_dets_indexes.append(j)\n",
    "        box_ref = np.array([cur_dets.loc[j, 'top'], cur_dets.loc[j, 'left'], cur_dets.loc[j, 'bottom'], cur_dets.loc[j, 'right']])\n",
    "        for k in cur_indexes[j+1:]:\n",
    "            box_test = np.array([cur_dets.loc[k, 'top'], cur_dets.loc[k, 'left'], cur_dets.loc[k, 'bottom'], cur_dets.loc[k, 'right']])\n",
    "            iou = compute_iou(box_ref, box_test)\n",
    "            if iou > iou_thr:\n",
    "                suppress_index.append(k)\n",
    "\n",
    "nms_dets = dets.loc[picked_dets_indexes, :]\n",
    "\n",
    "nms_dets.to_csv('0000_nms_dets.csv', sep=\" \", index=False, header=False)"
   ]
  },
  {
   "cell_type": "code",
   "execution_count": 23,
   "metadata": {},
   "outputs": [
    {
     "data": {
      "text/plain": [
       "(array([0, 1, 2], dtype=int64), array([2, 0, 1], dtype=int64))"
      ]
     },
     "execution_count": 23,
     "metadata": {},
     "output_type": "execute_result"
    }
   ],
   "source": [
    "import numpy as np\n",
    "from scipy.optimize import linear_sum_assignment\n",
    "\n",
    "cost_matrix = np.array([\n",
    "    [0, 2, 3],\n",
    "    [2, 1, 0],\n",
    "    [-100, -10, -20]\n",
    "])\n",
    "row_ind, col_ind = linear_sum_assignment(cost_matrix, maximize=True)\n",
    "row_ind, col_ind "
   ]
  }
 ],
 "metadata": {
  "kernelspec": {
   "display_name": "dl_basic",
   "language": "python",
   "name": "python3"
  },
  "language_info": {
   "codemirror_mode": {
    "name": "ipython",
    "version": 3
   },
   "file_extension": ".py",
   "mimetype": "text/x-python",
   "name": "python",
   "nbconvert_exporter": "python",
   "pygments_lexer": "ipython3",
   "version": "3.8.13"
  }
 },
 "nbformat": 4,
 "nbformat_minor": 2
}
